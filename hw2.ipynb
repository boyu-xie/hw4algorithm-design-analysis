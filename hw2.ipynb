{
 "cells": [
  {
   "cell_type": "markdown",
   "metadata": {},
   "source": [
    "## algorithm design and anlysis-2025 spring  homework 2\n",
    "**Deadline**：2025.5.14\n",
    "\n",
    "**name**:\n",
    "\n",
    "\n",
    "note：\n",
    "---\n",
    "1. 带有\\*的题目，申请免上课的同学，必须完成，其他同学选作；\n",
    "2. 请独立完成，如求助了他人或者大模型，请著明，并且不可省略算法分析部分；\n",
    "4. 如若作答有雷同，全部取消成绩；\n",
    "3. 需要书面作答的题目，可以通过引用图片的形式添加，但是注意上传项目时包含所引用的图片的源文件；\n",
    "4. $log_n$ 默认表示$log_2{n}$;"
   ]
  },
  {
   "cell_type": "markdown",
   "metadata": {},
   "source": [
    "## 问题 1  \n",
    "\n",
    "> 给定一个已排序的链表的头 `head` ， *删除所有重复的元素，使每个元素只出现一次* 。返回 *已排序的链表* 。链表的类如下所示：\n",
    "\n",
    "```python\n",
    "class NodeList:\n",
    "    def __init__(self, val=None, right=None):\n",
    "        self.val   = val\n",
    "        self.right = right\n",
    "```\n",
    "\n",
    "输入是一个数组，你首先需要将数组转化为链表，然后删除链表中的重复元素，再遍历链表元素，以一个数组的形式返回。请设计一个算法解决上述任务，分析算法设计思路，计算时间复杂度, 并基于python编程实现。\n",
    "\n",
    "e.g.  输入：head=[1, 1, 2, 3, 3]   输出：[1, 2, 3]\n",
    "\n",
    "![image-20240502110020439](./fig/hw2q1.png)\n",
    "\n"
   ]
  },
  {
   "cell_type": "markdown",
   "metadata": {},
   "source": [
    "idea："
   ]
  },
  {
   "cell_type": "code",
   "execution_count": 13,
   "metadata": {},
   "outputs": [
    {
     "name": "stdout",
     "output_type": "stream",
     "text": [
      "[1, 2, 3]\n"
     ]
    }
   ],
   "source": [
    "# 算法设计：\n",
    "# 将数组转化为链表，只需要为每一个元素都创建一个NodeList，val等于元素值，right等于下一个NodeList\n",
    "# 删除重复元素只需要遍历链表，若遇到当前节点等于下个节点时，将当前节点的right指向下下个节点，跳过下个节点就行\n",
    "# 将链表转化为数组只需要遍历链表，依次取出链表节点的值存放到数组里即可\n",
    "\n",
    "# add your idea here\n",
    "# your algorithm time complexity is: O(n)\n",
    "class NodeList:\n",
    "    def __init__(self, val=None, right=None):\n",
    "        self.val = val\n",
    "        self.right = right\n",
    "\n",
    "def array_to_link(arr):\n",
    "    head = NodeList(arr[0])\n",
    "    cur = head\n",
    "    for val in arr[1:]:\n",
    "        cur.right = NodeList(val)\n",
    "        cur = cur.right\n",
    "    return head\n",
    "\n",
    "def delete(head):\n",
    "    cur = head\n",
    "    while cur and cur.right:\n",
    "        if cur.val == cur.right.val:\n",
    "            cur.right = cur.right.right\n",
    "        else:\n",
    "            cur = cur.right\n",
    "    return head\n",
    "\n",
    "def link_to_array(head):\n",
    "    result = []\n",
    "    cur = head\n",
    "    while cur:\n",
    "        result.append(cur.val)\n",
    "        cur = cur.right\n",
    "    return result\n",
    "\n",
    "haed = [1, 1, 2, 3, 3]\n",
    "haed = array_to_link(haed)\n",
    "haed = delete(haed)\n",
    "result = link_to_array(haed)\n",
    "print(result)"
   ]
  },
  {
   "cell_type": "markdown",
   "metadata": {},
   "source": [
    "## 问题 2  \n",
    "\n",
    "> 下面是一个经典的算法问题：\n",
    ">\n",
    "> - 给定包含n个整数的一个整数数组 `nums` 和一个整数目标值 `target`，请你在该数组中找出 **和为目标值** *`target`* 的那 **两个** 整数，并返回它们的**数组下标**。假设每种输入只会对应一个答案。但是，数组中同一个元素在答案里不能重复出现。你可以按任意顺序返回答案。\n",
    ">\n",
    "> 由于要多次查找数组中元素的位置，为了提高查询效率可以使用哈希表来存储数组中的数据，在哈希表中查询一个元素的复杂度为O(1)。 已知python中的字典是使用哈希表实现的，即使用`dict[key]`查询对应的value时间复杂度为O(1), python提供了查询字典是否包含某个key的功能：`key in dict`，时间复杂度也是O(1)\n",
    "\n",
    "请根据上面信息，设计一个时间复杂度为O(n) 的算法，解决上述算法问题\n",
    "\n",
    "e.g.   \n",
    "\n",
    "输入：nums=[2,7,11,15], target=9， 输出：[0，1]\n",
    "\n",
    "输入：nums=[3,2,4], target=6, 输出：[1,2]\n",
    "\n",
    "输入：nums=[3,3], target=6,  输出：[0,1]\n"
   ]
  },
  {
   "cell_type": "code",
   "execution_count": 12,
   "metadata": {},
   "outputs": [
    {
     "name": "stdout",
     "output_type": "stream",
     "text": [
      "[0, 1]\n"
     ]
    }
   ],
   "source": [
    "# add your idea here\n",
    "# your algorithm time complexity is: O(n)\n",
    "nums = [2,7,11,15]\n",
    "target = 9\n",
    "hash_map = {}\n",
    "\n",
    "for i in range(len(nums)):\n",
    "    key = target - nums[i]\n",
    "    if key in hash_map:\n",
    "        print(f\"[{hash_map[key]}, {i}]\")\n",
    "        break\n",
    "    hash_map[nums[i]] = i"
   ]
  },
  {
   "cell_type": "markdown",
   "metadata": {},
   "source": [
    "## 问题 3:   \n",
    "\n",
    "> 栈是一种常用的数据结构，编译器中通常使用栈来实现表达式求值。\n",
    ">\n",
    "> 以表达式 $3+5 \\times 8-6$​ 为例。编译器使用两个栈来完成运算，即一个栈保持操作数，另一个栈保存运算符。\n",
    ">\n",
    "> 1. 从左向右遍历表达式，遇到数字就压入操作数栈；\n",
    ">\n",
    "> 2. 遇到运算符，就与运算符栈的栈顶元素进行比较。如果比运算符栈顶元素的优先级高，就将当前运算符压入栈；如果比运算符栈顶元素的优先级低或者相同，从运算符栈中取栈顶运算符，从操作数栈的栈顶取 2 个操作数，然后进行计算，再把计算完的结果压入操作数栈，继续比较。\n",
    ">\n",
    "> 下图是 $3+5 \\times 8-6$  这个表达式的计算过程：\n",
    "\n",
    "![figure](./fig/hw2q3.png)\n",
    "\n",
    "根据上述原理，请设计一个算法完成表达式的运算，当输入为表达式字符串，返回对应的计算结果。分析算法设计思路，计算时间复杂度，并基于python编程实现\n",
    "\n",
    "**note：**\n",
    "\n",
    "1. 假设输入的表达式只会出现加（“+”），减 “-”， 乘“*”，除 “/” 四个运算符, 表达式中只会出现正整数\n",
    "2. python中` str.isdigit()`函数可以判断字符串str是否为数字，\n",
    "\n",
    "\n",
    "\n",
    "e.g. :\n",
    "---\n",
    "\n",
    "1. 输入：“$3+5 * 8 -6$”   输出：37\n",
    "\n",
    "2. 输入：“$34+13*9 + 44-12/3$”  输出：191"
   ]
  },
  {
   "cell_type": "markdown",
   "metadata": {},
   "source": [
    "idea："
   ]
  },
  {
   "cell_type": "code",
   "execution_count": 11,
   "metadata": {},
   "outputs": [
    {
     "name": "stdout",
     "output_type": "stream",
     "text": [
      "37\n"
     ]
    }
   ],
   "source": [
    "# 算法设计思路：\n",
    "# 遍历表达式，如果是数字，压入数字栈，如果是符号，则分情况\n",
    "# 如果符号栈不为空并且当前符号优先级比栈顶符号优先级小，则从数字栈中取出两个数字从符号栈中取出一个符号进行计算\n",
    "# 否则将符号直接压入符号栈\n",
    "# 最后表达式遍历完成后将符号栈中剩余符号取出进行计算，完成最后的计算\n",
    "\n",
    "# add your idea here\n",
    "# your algorithm time complexity is: 0(n)\n",
    "expression = \"3+5*8-6\"\n",
    "\n",
    "# 确定计算符号优先级\n",
    "precedence = {'+': 1, '-': 1, '*': 2, '/': 2}\n",
    "num_stack = []\n",
    "op_stack = []\n",
    "\n",
    "i = 0\n",
    "while i < len(expression):\n",
    "    char = expression[i]\n",
    "    \n",
    "    # 数字\n",
    "    if char.isdigit():\n",
    "        num_stack.append(int(char))\n",
    "    \n",
    "    # 符号\n",
    "    if char in precedence:\n",
    "        while (op_stack and precedence[char] <= precedence[op_stack[-1]]):\n",
    "            op = op_stack.pop()\n",
    "            b = num_stack.pop()\n",
    "            a = num_stack.pop()\n",
    "            if op == '+':\n",
    "                num_stack.append(a + b)\n",
    "            elif op == '-':\n",
    "                num_stack.append(a - b)\n",
    "            elif op == '*':\n",
    "                num_stack.append(a * b)\n",
    "            elif op == '/':\n",
    "                num_stack.append(a // b)\n",
    "\n",
    "        op_stack.append(char)\n",
    "        i += 1\n",
    "        continue\n",
    "\n",
    "    i += 1\n",
    "\n",
    "# 完成剩余计算\n",
    "while op_stack:\n",
    "    op = op_stack.pop()\n",
    "    b = num_stack.pop()\n",
    "    a = num_stack.pop()\n",
    "    if op == '+':\n",
    "        num_stack.append(a + b)\n",
    "    elif op == '-':\n",
    "        num_stack.append(a - b)\n",
    "    elif op == '*':\n",
    "        num_stack.append(a * b)\n",
    "    elif op == '/':\n",
    "        num_stack.append(a // b)\n",
    "\n",
    "print(num_stack[0])"
   ]
  },
  {
   "cell_type": "markdown",
   "metadata": {},
   "source": [
    "## 问题 4:  \n",
    "\n",
    "> 星球碰撞问题：现有n个星球，在同一条直线上运行，如数组A所示，元素的绝对值表示星球的质量，负数表示星球自右向左运动，正数表示星球自左向右运动，当两个星球相撞的时候，质量小的会消失，大的保持不变，**质量相同的两个星球碰撞后自右向左运动的星球消失，自左向右的星球保持不变**，假设所有星球的速度大小相同。\n",
    ">\n",
    "> $ A=[23,-8, 9, -3, -7, 9, -23, 22] $\n",
    "\n",
    "请设计一个算法模拟星球的运行情况，输出最终的星球存续情况（输出一个数组），分析算法设计思路，计算时间复杂度，并基于python编程实现。\n",
    "\n",
    "e.g.\n",
    "---\n",
    "1.  输入： A=[-3,-6,2,8, 5,-8,9,-2,1]， 输出：[-3, -6, 2, 8, 9, 1]\n",
    "\n",
    "2. 输入：A=[23,-8, 9, -3, -7, 9, -23, 22], 输出：[23, 22]\n",
    "\n"
   ]
  },
  {
   "cell_type": "code",
   "execution_count": 10,
   "metadata": {},
   "outputs": [
    {
     "name": "stdout",
     "output_type": "stream",
     "text": [
      "[23, 22]\n"
     ]
    }
   ],
   "source": [
    "# 算法设计：\n",
    "# 先创建一个栈，从左至右遍历数组\n",
    "# 如果遇到栈为空可以直接入栈，如果当前值大于0或者栈顶值小于0，这种情况下不会发生碰撞也可以直接入栈\n",
    "# 如果发生碰撞则判断当前值与栈顶值的绝对值大小，栈顶值大则当前值不入栈\n",
    "# 栈顶值小则去除栈顶值，当前值入栈，若相同则当前值也不用入栈\n",
    "\n",
    "# add your idea here\n",
    "# your algorithm time complexity is: O(n)\n",
    "A = [23,-8, 9, -3, -7, 9, -23, 22]\n",
    "stack = []\n",
    "    \n",
    "for a in A:\n",
    "    while True:\n",
    "        if not stack or a > 0 or stack[-1] <= 0:\n",
    "            stack.append(a)\n",
    "            break\n",
    "        else:\n",
    "            # 栈顶质量更大，当前星球消失\n",
    "            if abs(stack[-1]) > abs(a):\n",
    "                break\n",
    "            # 栈顶质量更小，栈顶消失\n",
    "            elif abs(stack[-1]) < abs(a):\n",
    "                stack.pop()\n",
    "                continue\n",
    "            # 质量相等，向左星球消失，保留栈顶\n",
    "            else:\n",
    "                break\n",
    "print(stack)"
   ]
  },
  {
   "cell_type": "markdown",
   "metadata": {},
   "source": [
    "## 问题 5 \n",
    "\n",
    "> 给定一个无序数组nums=[9,-3,-10,0,9,7,33]，请建立一个二叉搜索树存储数组中的所有元素，之后删除二叉树中的元素“0”，再使用中序遍历输出二叉搜索树中的所有元素。\n",
    "\n",
    "使用python编程完成上述任务，并计算时间复杂度\n"
   ]
  },
  {
   "cell_type": "code",
   "execution_count": 9,
   "metadata": {},
   "outputs": [
    {
     "name": "stdout",
     "output_type": "stream",
     "text": [
      "[-10, -3, 7, 9, 9, 33]\n"
     ]
    }
   ],
   "source": [
    "# add your idea here\n",
    "# your algorithm time complexity is: O(n)\n",
    "class TreeNode:\n",
    "    def __init__(self, val=0, left=None, right=None):\n",
    "        self.val = val\n",
    "        self.left = left\n",
    "        self.right = right\n",
    "\n",
    "def insert(node, val):\n",
    "    if not node:\n",
    "        return TreeNode(val)\n",
    "    if val < node.val:\n",
    "        node.left = insert(node.left, val)\n",
    "    else:\n",
    "        node.right = insert(node.right, val)\n",
    "    return node\n",
    "\n",
    "def delete(node, val):\n",
    "    if val < node.val:\n",
    "        node.left = delete(node.left, val)\n",
    "    elif val > node.val:\n",
    "        node.right = delete(node.right, val)\n",
    "    else:\n",
    "        if not node.left:\n",
    "            return node.right\n",
    "        elif not node.right:\n",
    "            return node.left\n",
    "    return node\n",
    "\n",
    "def inorder(node, result):\n",
    "    if node:\n",
    "        inorder(node.left, result)\n",
    "        result.append(node.val)\n",
    "        inorder(node.right, result)\n",
    "    \n",
    "nums = [9,-3,-10,0,9,7,33]\n",
    "# 二叉搜索树存储\n",
    "root = None\n",
    "for val in nums:\n",
    "    root = insert(root, val)\n",
    "# 删除0元素\n",
    "delete(root, 0)\n",
    "# 中序遍历\n",
    "result = []\n",
    "inorder(root, result)\n",
    "print(result)\n"
   ]
  },
  {
   "cell_type": "markdown",
   "metadata": {},
   "source": [
    "## 问题 6  \n",
    "\n",
    "> 给定一个包含大写字母和小写字母的字符串 s ，返回 字符串包含的 **最长的回文子串的长度** 。请注意 区分大小写 。比如 \"Aa\" 不能当做一个回文字符串。\n",
    ">\n",
    "\n",
    "请设计一个算法解决上述问题，只需要输出最长回文子串的长度，分析算法设计思路，计算时间复杂度，并基于python编程实现\n",
    "\n",
    "e.g. 输入： s=\"adccaccd\"，  输出：7。 最长回文子串为：\"dccaccd\", 长度为7\n"
   ]
  },
  {
   "cell_type": "markdown",
   "metadata": {},
   "source": [
    "idea："
   ]
  },
  {
   "cell_type": "code",
   "execution_count": 8,
   "metadata": {},
   "outputs": [
    {
     "name": "stdout",
     "output_type": "stream",
     "text": [
      "长度: 7\n"
     ]
    }
   ],
   "source": [
    "# 算法设计：\n",
    "# 回文字符串有奇数和偶数两种情况，判断是否为回文字符串基本思路都是从中心向两侧扩展，检查回文\n",
    "# 遍历字符串，每个字符都以奇数和偶数两种情况向两侧扩展检查回文\n",
    "\n",
    "# add your idea here\n",
    "# your algorithm time complexity is: O(n^2)\n",
    "s = \"adccaccd\"\n",
    "\n",
    "def expand(left, right):\n",
    "    while left >= 0 and right < len(s) and s[left] == s[right]:\n",
    "        left -= 1\n",
    "        right += 1\n",
    "    return right - left - 1\n",
    "\n",
    "max_len = 0\n",
    "for i in range(len(s)):\n",
    "    # 奇数\n",
    "    len1 = expand(i, i)\n",
    "    # 偶数\n",
    "    len2 = expand(i, i + 1)\n",
    "    max_len = max(max_len, len1, len2)\n",
    "\n",
    "print(\"长度:\", max_len)"
   ]
  },
  {
   "cell_type": "markdown",
   "metadata": {},
   "source": [
    "## 问题 7 \n",
    "\n",
    "> 沿一条长河流分散着n座房子。你可以把这条河想象成一条轴，房子是由它们在这条轴上的坐标按顺序排列的。你的公司想在河边的特定地点设置手机基站，这样每户人家都在距离基站4公里的范围内。输入可以看作为一个升序数组，数组元素的取值为大于等于0的正整数，你需要输出最小基站的数目，基站的位置。\n",
    "\n",
    "1. 给出一个时间复杂度为$O(n$) 的算法，使所使用的基站数量最小化，分析算法设计思路，使用python编程实现\n",
    "2. 证明1.中算法产生了最优解决方案。\n",
    "\n",
    "e.g. \n",
    "\n",
    "输入： [1, 5, 12, 33, 34,35]  输出：基站数目为3， 基站位置为[1，12，33]\n",
    "\n"
   ]
  },
  {
   "cell_type": "markdown",
   "metadata": {},
   "source": [
    "idea："
   ]
  },
  {
   "cell_type": "code",
   "execution_count": 7,
   "metadata": {},
   "outputs": [
    {
     "name": "stdout",
     "output_type": "stream",
     "text": [
      "基站数目: 3  基站位置: [1, 12, 33]\n"
     ]
    }
   ],
   "source": [
    "# 求助大模型\n",
    "# 算法分析：\n",
    "# 使用贪心算法，从左到右处理房子，尽可能用一个基站覆盖最多的房子。\n",
    "# 对于一组房子，如果它们之间的距离足够近（不超过2×4=8），可以用一个基站覆盖。\n",
    "# 选择基站位置时，确保覆盖当前未覆盖的最左房子，并尽量向右延伸覆盖更多房子。\n",
    "# 从第一个未覆盖的房子开始，放置一个基站，使其覆盖尽可能多的后续房子。\n",
    "\n",
    "# add your idea here\n",
    "# your algorithm time complexity is: O(n)\n",
    "houses = [1, 5, 12, 33, 34,35]\n",
    "n = len(houses)\n",
    "count = 0  # 基站数量\n",
    "stations = []  # 基站位置\n",
    "i = 0  # 当前房子索引\n",
    "\n",
    "while i < n:\n",
    "    # 放置基站覆盖 houses[i]\n",
    "    station = houses[i]\n",
    "    stations.append(station)\n",
    "    count += 1\n",
    "    # 覆盖范围 [houses[i]-4, houses[i]+4]\n",
    "    cover_end = houses[i] + 4\n",
    "    # 找到第一个未覆盖的房子\n",
    "    j = i + 1\n",
    "    while j < n and houses[j] <= cover_end:\n",
    "        j += 1\n",
    "    i = j  # 跳到未覆盖的房子\n",
    "\n",
    "print(\"基站数目:\", count, \" 基站位置:\", stations)\n",
    "\n",
    "# 贪心算法，从最左未覆盖房子开始，放置基站覆盖尽可能多的房子\n",
    "# 使得每次都找到局部最优，以此来接近全局最优"
   ]
  },
  {
   "cell_type": "markdown",
   "metadata": {},
   "source": [
    "## 问题 8  \n",
    "\n",
    "> 给定由n个正整数组成的一个集合$S = \\{a_1, a_2，···，a_n\\}$和一个正整数W，设计一个算法确定是否存在S的一个子集 $K \\subseteq S$, 使K中所有数之和为 $W$, 如果存在返回“True”，否则返回“False”\n",
    "\n",
    "请设计一个时间复杂度为$O(nW)$动态规划算法，解决上述问题，分析算法的设计思路，并且基于python编程实现（不需要输出子集）。\n",
    "\n",
    "e.g. \n",
    "\n",
    "输入：S = {1,4,7,3,5}， W = 11，输出：True。   因为K可以是{4,7}。\n",
    "\n"
   ]
  },
  {
   "cell_type": "markdown",
   "metadata": {},
   "source": [
    "idea："
   ]
  },
  {
   "cell_type": "code",
   "execution_count": 3,
   "metadata": {},
   "outputs": [
    {
     "name": "stdout",
     "output_type": "stream",
     "text": [
      "True\n"
     ]
    }
   ],
   "source": [
    "# 求助大模型\n",
    "\n",
    "# add your idea here\n",
    "# your algorithm time complexity is: O(nW)\n",
    "def subset_sum(S, W):\n",
    "    n = len(S)\n",
    "    # 初始化 dp 数组\n",
    "    dp = [False] * (W + 1)\n",
    "    dp[0] = True\n",
    "    \n",
    "    # 遍历每个元素\n",
    "    for i in range(n):\n",
    "        # 从大到小更新 dp，避免覆盖\n",
    "        for j in range(W, S[i] - 1, -1):\n",
    "            dp[j] = dp[j] or dp[j - S[i]]\n",
    "    \n",
    "    return dp[W]\n",
    "\n",
    "\n",
    "S = [1, 4, 7, 3, 5]\n",
    "W = 11\n",
    "result = subset_sum(S, W)\n",
    "print(result)"
   ]
  },
  {
   "cell_type": "markdown",
   "metadata": {},
   "source": [
    "\n",
    "\n",
    "## 问题 9 \n",
    "\n",
    "> 给定一个n个物品的集合。物体的重量为$w_1, w_2，…、w_n$，物品的价值分别是$v_1、v_2、…v_n$。给你**两个**重量为 $c$ 的背包。如果你带了一个东西，它可以放在一个背包里，也可以放在另一个背包里，但不能同时放在两个背包里。所有权重和价值都是正整数。\n",
    "\n",
    "1. 设计一个时间复杂度为 $O(nc^2)$ 的动态规划算法，确定可以放入两个背包的物体的最大价值。分析算法设计思路，并基于python编程实现\n",
    "2. \\* 修改1中的算法，输出每个背包的内容（物品对应下标）。\n",
    "\n",
    "e.g.: \n",
    "\n",
    "输入 V=[1,3,2,5,8,7], W=[1,3,2,5,8,7], c=7, 输出：最大价值=14，背包装的物品为：[6] [4，3] （同一个背包中物品装入顺序对结果无影响）  \n"
   ]
  },
  {
   "cell_type": "markdown",
   "metadata": {},
   "source": [
    "idea："
   ]
  },
  {
   "cell_type": "code",
   "execution_count": 2,
   "metadata": {},
   "outputs": [
    {
     "name": "stdout",
     "output_type": "stream",
     "text": [
      "最大价值 = 14\n",
      "背包 1: [6]\n",
      "背包 2: [4, 3]\n"
     ]
    }
   ],
   "source": [
    "# 求助大模型\n",
    "\n",
    "# add your idea here\n",
    "# your algorithm time complexity is: O(nc^2)\n",
    "def double_knapsack(V, W, c):\n",
    "    n = len(V)\n",
    "    # 初始化 dp 数组\n",
    "    dp = [[0] * (c + 1) for _ in range(c + 1)]\n",
    "    # 记录选择（0: 不选, 1: 背包1, 2: 背包2）\n",
    "    choice = [[[0] * (c + 1) for _ in range(c + 1)] for _ in range(n + 1)]\n",
    "    \n",
    "    # 动态规划\n",
    "    for i in range(1, n + 1):\n",
    "        # 创建新的 dp 数组，复制上一层的 dp\n",
    "        new_dp = [[0] * (c + 1) for _ in range(c + 1)]\n",
    "        for j in range(c + 1):\n",
    "            for k in range(c + 1):\n",
    "                # 不选物品 i\n",
    "                new_dp[j][k] = dp[j][k]\n",
    "                choice[i][j][k] = 0\n",
    "                \n",
    "                # 选物品 i 放入背包 1\n",
    "                if j >= W[i-1]:\n",
    "                    if new_dp[j][k] < dp[j - W[i-1]][k] + V[i-1]:\n",
    "                        new_dp[j][k] = dp[j - W[i-1]][k] + V[i-1]\n",
    "                        choice[i][j][k] = 1\n",
    "                \n",
    "                # 选物品 i 放入背包 2\n",
    "                if k >= W[i-1]:\n",
    "                    if new_dp[j][k] < dp[j][k - W[i-1]] + V[i-1]:\n",
    "                        new_dp[j][k] = dp[j][k - W[i-1]] + V[i-1]\n",
    "                        choice[i][j][k] = 2\n",
    "        \n",
    "        dp = new_dp\n",
    "    \n",
    "    # 回溯找出物品分配\n",
    "    knapsack1, knapsack2 = [], []\n",
    "    j, k = c, c\n",
    "    for i in range(n, 0, -1):\n",
    "        if choice[i][j][k] == 1:\n",
    "            knapsack1.append(i)\n",
    "            j -= W[i-1]\n",
    "        elif choice[i][j][k] == 2:\n",
    "            knapsack2.append(i)\n",
    "            k -= W[i-1]\n",
    "    \n",
    "    return dp[c][c], knapsack1, knapsack2\n",
    "\n",
    "\n",
    "V = [1, 3, 2, 5, 8, 7]\n",
    "W = [1, 3, 2, 5, 8, 7]\n",
    "c = 7\n",
    "max_value, knapsack1, knapsack2 = double_knapsack(V, W, c)\n",
    "print(f\"最大价值 = {max_value}\")\n",
    "print(f\"背包 1: {knapsack1}\")\n",
    "print(f\"背包 2: {knapsack2}\")"
   ]
  },
  {
   "cell_type": "markdown",
   "metadata": {},
   "source": [
    "## 问题 10 \n",
    "\n",
    "> 给定两个字符串 $x[1..n]$ 和 $y[1..m]$，我们想通过以下操作将 $x$ 变换为 $y$ :\n",
    ">\n",
    "> **插入**：在 $x$ 中插入一个字符(在任何位置)；**删除**：从 $x$ 中删除一个字符(在任何位置)； **替换**：用另一个字符替换 $x$ 中的一个字符。\n",
    ">\n",
    "> 例如: $x = abcd$, $y = bcfe$，\n",
    ">\n",
    "> - 将 $x$ 转换为 $y$ 的一种可能方法是：1. 删除 $x$ 开头的 $a$, $x$变成 $bcd$； 2. 将 $x$ 中的字符 $d$ 替换为字符 $f$。$x$ 变成 $bcf$； 3. 在 $x$ 的末尾插入字符 $e$。$x$ 变成 $bcfe$。\n",
    ">\n",
    "> - 另一种可能的方法：1. 删除 $x$ 开头的 $a$,  $x$ 变成 $bcd$； 2. 在 $x$ 中字符 $d$ 之前插入字符 $f$。$x$ 变成 $bcfd$。3. 将 $x$ 中的字符 $d$ 替换为字符 $e$。$x$ 变成 $bcfe$。\n",
    "\n",
    "设计一个时间复杂度为 $O(mn)$ 的算法，返回将 $x$ 转换为 $y$ 所需的最少操作次数。分析算法设计思路，并基于python编程实现。\n"
   ]
  },
  {
   "cell_type": "markdown",
   "metadata": {},
   "source": [
    "idea："
   ]
  },
  {
   "cell_type": "code",
   "execution_count": 1,
   "metadata": {},
   "outputs": [
    {
     "name": "stdout",
     "output_type": "stream",
     "text": [
      "最少操作次数: 3\n"
     ]
    }
   ],
   "source": [
    "# 求助大模型\n",
    "\n",
    "# add your idea here\n",
    "# your algorithm time complexity is: O(mn)\n",
    "def edit_distance(x, y):\n",
    "    n, m = len(x), len(y)\n",
    "    # 初始化 dp 数组\n",
    "    dp = [[0] * (m + 1) for _ in range(n + 1)]\n",
    "    \n",
    "    # 初始化边界\n",
    "    for j in range(m + 1):\n",
    "        dp[0][j] = j  # 空字符串 x 转换为 y[1..j] 需要 j 次插入\n",
    "    for i in range(n + 1):\n",
    "        dp[i][0] = i  # x[1..i] 转换为空字符串需要 i 次删除\n",
    "    \n",
    "    # 动态规划\n",
    "    for i in range(1, n + 1):\n",
    "        for j in range(1, m + 1):\n",
    "            if x[i-1] == y[j-1]:  # 字符相同，无需操作\n",
    "                dp[i][j] = dp[i-1][j-1]\n",
    "            else:  # 字符不同，取三种操作的最小值\n",
    "                dp[i][j] = min(\n",
    "                    dp[i-1][j-1] + 1,  # 替换\n",
    "                    dp[i][j-1] + 1,    # 插入\n",
    "                    dp[i-1][j] + 1     # 删除\n",
    "                )\n",
    "    \n",
    "    return dp[n][m]\n",
    "\n",
    "\n",
    "x = \"abcd\"\n",
    "y = \"bcfe\"\n",
    "result = edit_distance(x, y)\n",
    "print(f\"最少操作次数: {result}\")"
   ]
  }
 ],
 "metadata": {
  "kernelspec": {
   "display_name": "Python 3",
   "language": "python",
   "name": "python3"
  },
  "language_info": {
   "codemirror_mode": {
    "name": "ipython",
    "version": 3
   },
   "file_extension": ".py",
   "mimetype": "text/x-python",
   "name": "python",
   "nbconvert_exporter": "python",
   "pygments_lexer": "ipython3",
   "version": "3.12.7"
  }
 },
 "nbformat": 4,
 "nbformat_minor": 2
}
