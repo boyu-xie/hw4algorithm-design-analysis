{
 "cells": [
  {
   "cell_type": "markdown",
   "metadata": {},
   "source": [
    "## algorithm design and anlysis-2025 spring  homework 3\n",
    "**Deadline**：2025.5.14\n",
    "\n",
    "**name**:\n",
    "\n",
    "\n",
    "note：\n",
    "---\n",
    "1. 带有\\*的题目，申请免上课的同学，必须完成，其他同学选作；\n",
    "2. 请独立完成，如求助了他人或者大模型，请著明，并且不可省略算法分析部分；\n",
    "4. 如若作答有雷同，全部取消成绩；\n",
    "3. 需要书面作答的题目，可以通过引用图片的形式添加，但是注意上传项目时包含所引用的图片的源文件；\n",
    "4. $log_n$ 默认表示$log_2{n}$;"
   ]
  },
  {
   "cell_type": "markdown",
   "metadata": {},
   "source": [
    "## 问题 1  \n",
    "\n",
    "请证明基于比较的排序算法计算复杂度下界为$\\Omega(nlogn)$"
   ]
  },
  {
   "cell_type": "markdown",
   "metadata": {},
   "source": [
    "you can refer a handwritten picture, pleas upload the picture in /fig/xxx.png\n",
    "answer："
   ]
  },
  {
   "cell_type": "markdown",
   "metadata": {},
   "source": [
    "求助大模型\n",
    "![](./fig/hw3_1.jpg)"
   ]
  },
  {
   "cell_type": "markdown",
   "metadata": {},
   "source": [
    "## 问题 2 \n",
    "\n",
    "构建二叉搜索树\n",
    "\n",
    "> 1. 给定一个数组 [48, 33, 49, 47, 42, 46, 32], 构建一个二叉搜索树存储这些数据，请**绘制**所构建的**二叉搜索树**（标明结点的值）。\n",
    "> 2. 从第1问的二叉搜索树中删除33，请**绘制**删除33后的**二叉搜索树**（标明结点的值）\n",
    "\n",
    "- 推荐使用graphviz包绘制树的结构"
   ]
  },
  {
   "cell_type": "markdown",
   "metadata": {},
   "source": [
    "you can refer a handwritten picture, pleas upload the picture in /fig/xxx.png\n",
    "answer："
   ]
  },
  {
   "cell_type": "markdown",
   "metadata": {},
   "source": [
    "1.\n",
    "\n",
    "![](./fig/hw3_2-1.png)\n",
    "\n",
    "2.\n",
    "\n",
    "![](./fig/hw3_2-2.png)"
   ]
  },
  {
   "cell_type": "markdown",
   "metadata": {},
   "source": [
    "## 问题 3 \n",
    "\n",
    "> 下面是九门课程的开始和结束时间:\n",
    ">\n",
    "> [(9:00,12:30), (11:00,14:00), (13:00, 14:30), (9:00,10:30),(13:00, 14:30),(14:00,16:30), (15:00,16:30), (15:00,16:30), (9:00,10:30)]\n",
    ">\n",
    "> 请使用贪婪算法为这九门课分配教室，要求在同一天内安排这些课，并且每个教室同一时间只能安排一门课。\n",
    "\n",
    "**请问最少需要几间教室，罗列出每个教室安排的课程**"
   ]
  },
  {
   "cell_type": "markdown",
   "metadata": {},
   "source": [
    "idea："
   ]
  },
  {
   "cell_type": "code",
   "execution_count": 10,
   "metadata": {},
   "outputs": [
    {
     "name": "stdout",
     "output_type": "stream",
     "text": [
      "最少需要 3 间教室\n",
      "\n",
      "教室 1:\n",
      "(9:00, 12:30)\n",
      "(13:00, 14:30)\n",
      "(15:00, 16:30)\n",
      "\n",
      "教室 2:\n",
      "(9:00, 10:30)\n",
      "(11:00, 14:00)\n",
      "(14:00, 16:30)\n",
      "\n",
      "教室 3:\n",
      "(9:00, 10:30)\n",
      "(13:00, 14:30)\n",
      "(15:00, 16:30)\n",
      "\n"
     ]
    }
   ],
   "source": [
    "# 求助大模型\n",
    "# code：\n",
    "import heapq\n",
    "\n",
    "times = [\n",
    "    ('9:00', '12:30'), ('11:00', '14:00'), ('13:00', '14:30'),\n",
    "    ('9:00', '10:30'), ('13:00', '14:30'), ('14:00', '16:30'),\n",
    "    ('15:00', '16:30'), ('15:00', '16:30'), ('9:00', '10:30')\n",
    "]\n",
    "\n",
    "def time_to_minutes(t):\n",
    "    hours, minutes = map(int, t.split(':'))\n",
    "    return hours * 60 + minutes\n",
    "\n",
    "def minutes_to_time(m):\n",
    "    hours = m // 60\n",
    "    minutes = m % 60\n",
    "    return f\"{hours}:{minutes:02d}\"\n",
    "\n",
    "# 转换为分钟数\n",
    "courses = [(time_to_minutes(s), time_to_minutes(e)) for s, e in times]\n",
    "sorted_courses = sorted(courses, key=lambda x: x[0])\n",
    "\n",
    "classrooms = []\n",
    "heap = []\n",
    "\n",
    "for start, end in sorted_courses:\n",
    "    found = False\n",
    "    while heap:\n",
    "        current_end, idx = heapq.heappop(heap)\n",
    "        # 检查该教室的结束时间是否未被更新过\n",
    "        if classrooms[idx]['end'] == current_end:\n",
    "            if current_end <= start:\n",
    "                classrooms[idx]['courses'].append((start, end))\n",
    "                classrooms[idx]['end'] = end\n",
    "                heapq.heappush(heap, (end, idx))\n",
    "                found = True\n",
    "                break\n",
    "            else:\n",
    "                heapq.heappush(heap, (current_end, idx))\n",
    "                break\n",
    "            \n",
    "    if not found:\n",
    "        new_classroom = {\n",
    "            'courses': [(start, end)],\n",
    "            'end': end\n",
    "        }\n",
    "        classrooms.append(new_classroom)\n",
    "        heapq.heappush(heap, (end, len(classrooms)-1))\n",
    "\n",
    "\n",
    "print(f\"最少需要 {len(classrooms)} 间教室\\n\")\n",
    "for i, room in enumerate(classrooms):\n",
    "    print(f\"教室 {i+1}:\")\n",
    "    for s, e in room['courses']:\n",
    "        print(f\"({minutes_to_time(s)}, {minutes_to_time(e)})\")\n",
    "    print()"
   ]
  },
  {
   "cell_type": "markdown",
   "metadata": {},
   "source": [
    "## 问题 4 \n",
    "\n",
    "> 爬楼梯问题：假设爬楼梯时你每次只能爬一阶或者爬两阶，问爬上n阶的楼梯，你一共有多少种方法\n",
    "\n",
    "请设计算法完成该问题，分析算法设计思路，计算时间复杂度，并基于python编程实现"
   ]
  },
  {
   "cell_type": "markdown",
   "metadata": {},
   "source": [
    "idea："
   ]
  },
  {
   "cell_type": "code",
   "execution_count": 9,
   "metadata": {},
   "outputs": [
    {
     "name": "stdout",
     "output_type": "stream",
     "text": [
      "爬到第5阶的方法数: 8\n"
     ]
    }
   ],
   "source": [
    "# 算法设计：\n",
    "# 爬楼梯问题是一个经典的动态规划问题。\n",
    "# 要爬到第n阶楼梯，最后一步只能是爬1阶或爬2阶。\n",
    "# 如果最后一步是爬1阶，那么之前必须在第n-1阶。\n",
    "# 如果最后一步是爬2阶，那么之前必须在第n-2阶。\n",
    "# 因此，爬到第n阶的方法数是爬到第n-1阶的方法数与爬到第n-2阶的方法数之和。\n",
    "# 设dp[n]表示爬到第n阶的方法数，递推关系：dp[n] = dp[n-1] + dp[n-2]。\n",
    "\n",
    "# add your code here\n",
    "# your algorithm time complexity is: O(n)\n",
    "def climb_stairs_optimized(n):\n",
    "    # 处理特殊情况\n",
    "    if n <= 0:\n",
    "        return 0\n",
    "    elif n == 1:\n",
    "        return 1\n",
    "    elif n == 2:\n",
    "        return 2\n",
    "    \n",
    "    # 使用两个变量保存前两个状态\n",
    "    a, b = 1, 2  # a表示dp[i-2]，b表示dp[i-1]\n",
    "    for _ in range(3, n + 1):\n",
    "        a, b = b, a + b\n",
    "    return b\n",
    "\n",
    "# 测试\n",
    "n = 5\n",
    "print(f\"爬到第{n}阶的方法数: {climb_stairs_optimized(n)}\")"
   ]
  },
  {
   "cell_type": "markdown",
   "metadata": {},
   "source": [
    "## 问题 5 \n",
    "\n",
    "> 0-1背包问题：现在有4块大理石，每个大理石对应的重量和价值使用一个元组表示, 即（重量，价值），4块大理石的重量和价值为：[(5,10), (4,40), (6,30), (3, 50)], 假设你有一辆最大承重为9的小推车，请问使用这个小推车装大理石的最大价值为多少\n",
    "\n",
    "请设计一个算法解决该问题，分析算法设计思路，计算时间复杂度，并基于python编程实现"
   ]
  },
  {
   "cell_type": "markdown",
   "metadata": {},
   "source": [
    "idea："
   ]
  },
  {
   "cell_type": "code",
   "execution_count": 8,
   "metadata": {},
   "outputs": [
    {
     "name": "stdout",
     "output_type": "stream",
     "text": [
      "90\n"
     ]
    }
   ],
   "source": [
    "# 求助大模型\n",
    "# 算法设计：\n",
    "# 0-1背包问题是经典的动态规划问题。\n",
    "# 使用一维数组 dp[w] 表示容量为 w 时的最大价值。\n",
    "# 对于每个物品，逆序遍历容量。若当前容量 w 可以容纳该物品，则比较放入和不放入的情况，更新最大价值。\n",
    "\n",
    "# add your code here\n",
    "# your algorithm time complexity is: O(nW)\n",
    "def knapsack_01(items, capacity):\n",
    "    dp = [0] * (capacity + 1)\n",
    "    for weight, value in items:\n",
    "        for w in range(capacity, weight - 1, -1):\n",
    "            dp[w] = max(dp[w], dp[w - weight] + value)\n",
    "    return dp[capacity]\n",
    "\n",
    "items = [(5, 10), (4, 40), (6, 30), (3, 50)]\n",
    "capacity = 9\n",
    "print(knapsack_01(items, capacity))"
   ]
  },
  {
   "cell_type": "markdown",
   "metadata": {},
   "source": [
    "## 问题 6 \n",
    "给定 `n` 个非负整数表示每个宽度为 `1` 的柱子的高度图，计算按此排列的柱子，下雨之后能接多少雨水。\n",
    "\n",
    "\n",
    "\n",
    "<div style=\"text-align:center;width:800px;\"> <img alt=\"\" src=\"./fig/hw3q6.png\"> </div>\n",
    "\n",
    "请分析算法设计思路，计算时间复杂度，并基于python编程实现"
   ]
  },
  {
   "cell_type": "markdown",
   "metadata": {},
   "source": [
    "idea："
   ]
  },
  {
   "cell_type": "code",
   "execution_count": 7,
   "metadata": {},
   "outputs": [
    {
     "name": "stdout",
     "output_type": "stream",
     "text": [
      "6\n"
     ]
    }
   ],
   "source": [
    "# 算法设计：\n",
    "# 采用双指针法解决。核心思路是通过维护左右两个指针，分别从数组两端向中间移动，同时记录左右两侧的最大高度。\n",
    "# 当左指针处的高度小于等于右指针处的高度时，若左指针处的高度小于左侧最大高度，则说明此处能接雨水；\n",
    "# 否则更新左侧最大高度。反之对右指针进行类似处理。\n",
    "\n",
    "# add your code here\n",
    "# your algorithm time complexity is: O(n)\n",
    "def trap(height):\n",
    "    left, right = 0, len(height) - 1\n",
    "    left_max = right_max = 0\n",
    "    result = 0\n",
    "    while left <= right:\n",
    "        if height[left] <= height[right]:\n",
    "            if height[left] >= left_max:\n",
    "                left_max = height[left]\n",
    "            else:\n",
    "                result += left_max - height[left]\n",
    "            left += 1\n",
    "        else:\n",
    "            if height[right] >= right_max:\n",
    "                right_max = height[right]\n",
    "            else:\n",
    "                result += right_max - height[right]\n",
    "            right -= 1\n",
    "    return result\n",
    "\n",
    "height = [0, 1, 0, 2, 1, 0, 1, 3, 2, 1, 2, 1]\n",
    "result = trap(height)\n",
    "print(result)"
   ]
  },
  {
   "cell_type": "markdown",
   "metadata": {},
   "source": [
    "## 问题 7 \n",
    "\n",
    "**股票投资组合优化**： 假设你是一位投资者，想要在不同的股票中分配你的资金，以最大化你的投资回报。每只股票都有不同的预期收益率和风险。你的目标是选择一些股票，使得总投资金额不超过你的预算，并且预期收益最大化。\n",
    "\n",
    "在这个情况下，你可以将每只股票视为一个“物品”，其重量为投资金额，价值为预期收益率。然后，你可以使用分级背包问题的方法来选择部分股票，以便在预算内获得最大的预期收益。\n",
    "\n",
    "以下是一个简化的例子：\n",
    "\n",
    "假设你有以下三只股票可供选择：\n",
    "\n",
    "1. 股票 A：投资金额 5000 美元，预期收益率 10%\n",
    "2. 股票 B：投资金额 3000 美元，预期收益率 8%\n",
    "3. 股票 C：投资金额 2000 美元，预期收益率 12%\n",
    "\n",
    "请设计算法找到最优投资方案，分析算法设计思路，计算时间复杂度，并基于python编程实现"
   ]
  },
  {
   "cell_type": "markdown",
   "metadata": {},
   "source": [
    "idea："
   ]
  },
  {
   "cell_type": "code",
   "execution_count": 6,
   "metadata": {},
   "outputs": [
    {
     "name": "stdout",
     "output_type": "stream",
     "text": [
      "最大预期收益: 820.00 美元\n",
      "投资方案:\n",
      "股票 C: 投资比例 1.00\n",
      "股票 A: 投资比例 1.00\n",
      "股票 B: 投资比例 0.33\n"
     ]
    }
   ],
   "source": [
    "# 求助大模型\n",
    "# 算法设计：\n",
    "# 每个股票可以看作一个“物品”，其“重量”为投资金额（美元），其“价值”为预期收益（美元）。\n",
    "# 与 0-1 背包不同，分数背包允许部分选择\n",
    "# 计算每只股票的单位价值，即单位投资金额的预期收益，按单位价值从高到低排序，按排序顺序选择股票，\n",
    "# 遍历排序后的股票，如果剩余预算足够，投资整只股票，更新预算和收益，否则，投资剩余预算的部分，计算对应收益。\n",
    "\n",
    "# add your code here\n",
    "# your algorithm time complexity is: O(nlogn)\n",
    "def fractional_knapsack_stocks(stocks, budget):\n",
    "    # 计算单位价值并排序\n",
    "    items = []\n",
    "    for i, (amount, profit) in enumerate(stocks):\n",
    "        unit_value = profit / amount\n",
    "        items.append((unit_value, amount, profit, i))\n",
    "    items.sort(reverse=True)\n",
    "    \n",
    "    total_profit = 0.0\n",
    "    remaining_budget = budget\n",
    "    investment_plan = []  # 记录投资方案：(股票索引, 投资比例)\n",
    "    \n",
    "    # 贪心选择\n",
    "    for unit_value, amount, profit, idx in items:\n",
    "        if remaining_budget >= amount:\n",
    "            # 全部投资\n",
    "            total_profit += profit\n",
    "            remaining_budget -= amount\n",
    "            investment_plan.append((idx, 1.0))\n",
    "        else:\n",
    "            # 部分投资\n",
    "            fraction = remaining_budget / amount\n",
    "            total_profit += profit * fraction\n",
    "            remaining_budget = 0\n",
    "            investment_plan.append((idx, fraction))\n",
    "            break\n",
    "    \n",
    "    return total_profit, investment_plan\n",
    "\n",
    "\n",
    "stocks = [(5000, 500), (3000, 240), (2000, 240)]  # A, B, C\n",
    "budget = 8000\n",
    "\n",
    "total_profit, plan = fractional_knapsack_stocks(stocks, budget)\n",
    "\n",
    "stock_names = ['A', 'B', 'C']\n",
    "print(f\"最大预期收益: {total_profit:.2f} 美元\")\n",
    "print(\"投资方案:\")\n",
    "for idx, fraction in plan:\n",
    "    print(f\"股票 {stock_names[idx]}: 投资比例 {fraction:.2f}\")"
   ]
  },
  {
   "cell_type": "markdown",
   "metadata": {},
   "source": [
    "## 问题 8\n",
    "\n",
    "给你二叉搜索树的根节点 root ，该树中的恰好两个节点的值被错误地交换。请在不改变其结构的情况下，恢复这棵树 。设计算法解决该问题，分析算法设计思路，计算时间复杂度，并基于python编程实现\n",
    "\n",
    "e.g.:\n",
    "---\n",
    "1.\n",
    "\n",
    "<div style=\"text-align:center;width:200px;\"> <img alt=\"\" src=\"./fig/hw3q9-1.jpg\"> </div>\n",
    "输入：root = [1,3,null,null,2]， 输出为：[3,1,null,null,2]， \n",
    "\n",
    "解释：3 不能是 1 的左孩子，因为 3 > 1 。交换 1 和 3 使二叉搜索树有效。\n",
    "\n",
    "2.\n",
    "\n",
    " <div style=\"text-align:center;width:200px;\"> <img alt=\"\" src=\"./fig/hw3q9-1.jpg\"> </div>\n",
    "输入： root=[3,1,4,null,null,2]， 输出为：[2,1,4,null,null,3]\n",
    "\n",
    "解释：2 不能在 3 的右子树中，因为 2 < 3 。交换 2 和 3 使二叉搜索树有效。"
   ]
  },
  {
   "cell_type": "markdown",
   "metadata": {},
   "source": [
    "idea：\n"
   ]
  },
  {
   "cell_type": "markdown",
   "metadata": {},
   "source": []
  },
  {
   "cell_type": "code",
   "execution_count": 5,
   "metadata": {},
   "outputs": [
    {
     "name": "stdout",
     "output_type": "stream",
     "text": [
      "[3, 1, None, None, 2]\n"
     ]
    }
   ],
   "source": [
    "# 求助大模型\n",
    "# 算法设计：\n",
    "# 要修复被错误交换的二叉搜索树（BST），需找到两个被错误交换的节点并恢复其值。\n",
    "# BST的中序遍历结果应为升序序列。若两个节点被交换，中序遍历序列中会出现逆序对。\n",
    "# 第一个错误节点是第一个逆序对中的较大值，第二个错误节点是最后一个逆序对中的较小值\n",
    "# 找到这两个节点后，交换它们的值即可恢复BST。\n",
    "\n",
    "# add your code here\n",
    "# your algorithm time complexity is: O(n)\n",
    "class TreeNode:\n",
    "    def __init__(self, val=0, left=None, right=None):\n",
    "        self.val = val\n",
    "        self.left = left\n",
    "        self.right = right\n",
    "\n",
    "\n",
    "class Solution:\n",
    "    def recoverTree(self, root):\n",
    "        self.first = None  # 第一个错误节点\n",
    "        self.second = None  # 第二个错误节点\n",
    "        self.prev = None   # 前一个节点\n",
    "        \n",
    "        def inorder(node):\n",
    "            if not node:\n",
    "                return\n",
    "            # 遍历左子树\n",
    "            inorder(node.left)\n",
    "            # 处理当前节点\n",
    "            if self.prev and self.prev.val > node.val:\n",
    "                if not self.first:\n",
    "                    self.first = self.prev\n",
    "                self.second = node\n",
    "            self.prev = node  \n",
    "            # 遍历右子树\n",
    "            inorder(node.right)\n",
    "        \n",
    "        # 执行中序遍历\n",
    "        inorder(root)\n",
    "        self.first.val, self.second.val = self.second.val, self.first.val\n",
    "\n",
    "# 测试代码\n",
    "def buildTree(values):\n",
    "    if not values:\n",
    "        return None\n",
    "    root = TreeNode(values[0])\n",
    "    queue = [root]\n",
    "    i = 1\n",
    "    while queue and i < len(values):\n",
    "        node = queue.pop(0)\n",
    "        if i < len(values) and values[i] is not None:\n",
    "            node.left = TreeNode(values[i])\n",
    "            queue.append(node.left)\n",
    "        i += 1\n",
    "        if i < len(values) and values[i] is not None:\n",
    "            node.right = TreeNode(values[i])\n",
    "            queue.append(node.right)\n",
    "        i += 1\n",
    "    return root\n",
    "\n",
    "def printTree(root):\n",
    "    if not root:\n",
    "        return []\n",
    "    result = []\n",
    "    queue = [root]\n",
    "    while queue:\n",
    "        node = queue.pop(0)\n",
    "        if node:\n",
    "            result.append(node.val)\n",
    "            queue.append(node.left)\n",
    "            queue.append(node.right)\n",
    "        else:\n",
    "            result.append(None)\n",
    "    while result and result[-1] is None:\n",
    "        result.pop()\n",
    "    return result\n",
    "\n",
    "\n",
    "solution = Solution()\n",
    "root = buildTree([1, 3, None, None, 2])\n",
    "solution.recoverTree(root)\n",
    "print(printTree(root))"
   ]
  },
  {
   "cell_type": "markdown",
   "metadata": {},
   "source": [
    "## 问题 9  \n",
    "\n",
    "给你一个二叉树的根节点 root ，树中每个节点都存放有一个 0 到 9 之间的数字。每条从根节点到叶节点的路径都代表一个数字：\n",
    "\n",
    "> 例如，从根节点到叶节点的路径 1 -> 2 -> 3 表示数字 123 。\n",
    "\n",
    "设计一个算法计算从根节点到叶节点生成的所有数字之和 ，分析算法设计思路，计算时间复杂度，并基于python编程实现\n",
    "\n",
    "叶节点:是指没有子节点的节点。\n",
    "\n",
    "e.g.:\n",
    "---\n",
    "1.\n",
    "\n",
    " <div style=\"text-align:center;width:200px;\"> <img alt=\"figure\" src=\"./fig/hw3q10-1.jpg\"> </div>\n",
    "\n",
    " 输入：root = [1,2,3], 输出：25\n",
    "\n",
    "解释：从根到叶子节点路径 1->2 代表数字 12，1->3 代表数字 13，因此和为 12 + 13 = 25 。\n",
    "\n",
    "2.\n",
    "\n",
    " <div style=\"text-align:center;width:200px;\"> <img alt=\"figure\" src=\"./fig/hw3q10-2.jpg\"> </div>\n",
    "\n",
    " 输入：root = [4,9,0,5,1], 输出：1026\n",
    "\n",
    "解释：从根到叶子节点路径 4->9->5 代表数字 495，4->9->1 代表数字 491，4->0 代表数字 40。因此和为 495 + 491 + 40 = 1026 。"
   ]
  },
  {
   "cell_type": "markdown",
   "metadata": {},
   "source": [
    "idea："
   ]
  },
  {
   "cell_type": "code",
   "execution_count": 4,
   "metadata": {},
   "outputs": [
    {
     "name": "stdout",
     "output_type": "stream",
     "text": [
      "25\n"
     ]
    }
   ],
   "source": [
    "# 算法设计：\n",
    "# 使用深度优先搜索（DFS）遍历从根到叶节点的所有路径。在遍历过程中，维护当前路径的数字\n",
    "# 从根节点开始，初始化当前路径数字为0。递归遍历左右子树，到达一个节点时，更新路径数字\n",
    "# 如果是叶节点，将当前路径数字加到总和，否则，继续递归遍历左右子树。\n",
    "\n",
    "# add your code here\n",
    "# your algorithm time complexity is: O(n)\n",
    "class TreeNode:\n",
    "    def __init__(self, val=0, left=None, right=None):\n",
    "        self.val = val\n",
    "        self.left = left\n",
    "        self.right = right\n",
    "\n",
    "class Solution:\n",
    "    def sumNumbers(self, root: TreeNode) -> int:\n",
    "        def dfs(node, current):\n",
    "            if not node:\n",
    "                return 0\n",
    "            # 更新当前路径数字\n",
    "            current = current * 10 + node.val\n",
    "            # 如果是叶节点，累加路径数字\n",
    "            if not node.left and not node.right:\n",
    "                return current\n",
    "            # 递归遍历左右子树\n",
    "            return dfs(node.left, current) + dfs(node.right, current)\n",
    "        \n",
    "        return dfs(root, 0)\n",
    "\n",
    "\n",
    "def buildTree(values):\n",
    "    if not values:\n",
    "        return None\n",
    "    root = TreeNode(values[0])\n",
    "    queue = [root]\n",
    "    i = 1\n",
    "    while queue and i < len(values):\n",
    "        node = queue.pop(0)\n",
    "        if i < len(values) and values[i] is not None:\n",
    "            node.left = TreeNode(values[i])\n",
    "            queue.append(node.left)\n",
    "        i += 1\n",
    "        if i < len(values) and values[i] is not None:\n",
    "            node.right = TreeNode(values[i])\n",
    "            queue.append(node.right)\n",
    "        i += 1\n",
    "    return root\n",
    "\n",
    "\n",
    "solution = Solution()\n",
    "root = buildTree([1, 2, 3])\n",
    "print(solution.sumNumbers(root))"
   ]
  },
  {
   "cell_type": "markdown",
   "metadata": {},
   "source": [
    "## 问题 10  \n",
    "\n",
    "给你一个二叉树的根节点 root ， 检查它是否轴对称。\n",
    "\n",
    "1. 分析算法设计思路，计算时间复杂度，并基于python编程实现\n",
    "2. \\* 设计使用递归和迭代两种方法解决这个问题，计算时间复杂度，并基于python编程实现\n",
    "\n",
    "e.g.:\n",
    "---\n",
    "1.\n",
    "\n",
    " <div style=\"text-align:center;width:200px;\"> <img alt=\"figure\" src=\"./fig/hw3q11-1.png\"> </div>\n",
    "\n",
    " 输入：root = [1,2,2,3,4,4,3]， 输出：true\n",
    "\n",
    "解释：二叉树 [1,2,2,3,4,4,3] 对称。\n",
    "\n",
    "2.\n",
    "\n",
    " <div style=\"text-align:center;width:200px;\"> <img alt=\"figure\" src=\"./fig/hw3q11-2.png\"> </div>\n",
    "\n",
    " 输入：root = [1,2,2,null,3,null,3]， 输出：false"
   ]
  },
  {
   "cell_type": "markdown",
   "metadata": {},
   "source": [
    "idea"
   ]
  },
  {
   "cell_type": "code",
   "execution_count": 11,
   "metadata": {},
   "outputs": [
    {
     "name": "stdout",
     "output_type": "stream",
     "text": [
      "True\n"
     ]
    }
   ],
   "source": [
    "# 算法分析：\n",
    "# 将问题分解为比较根节点的左子树和右子树是否镜像，使用递归或迭代方法检查每个节点及其子树。\n",
    "# 如果根节点为空，返回true，如果left和right都为空，返回true\n",
    "# 如果一个为空或值不同，返回false，否则，递归检查left.left, right.right)和(left.right, right.left)是否对称\n",
    "\n",
    "# add your code here\n",
    "# your algorithm time complexity is: O(n)\n",
    "class TreeNode:\n",
    "    def __init__(self, val=0, left=None, right=None):\n",
    "        self.val = val\n",
    "        self.left = left\n",
    "        self.right = right\n",
    "\n",
    "class Solution:\n",
    "    def isSymmetric(self, root: TreeNode) -> bool:\n",
    "        if not root:\n",
    "            return True\n",
    "        \n",
    "        def isMirror(left, right):\n",
    "            # 两个节点都为空，对称\n",
    "            if not left and not right:\n",
    "                return True\n",
    "            # 一个为空或值不同，不对称\n",
    "            if not left or not right or left.val != right.val:\n",
    "                return False\n",
    "            # 递归检查左右对称\n",
    "            return isMirror(left.left, right.right) and isMirror(left.right, right.left)\n",
    "        \n",
    "        return isMirror(root.left, root.right)\n",
    "\n",
    "\n",
    "def buildTree(values):\n",
    "    if not values:\n",
    "        return None\n",
    "    root = TreeNode(values[0])\n",
    "    queue = [root]\n",
    "    i = 1\n",
    "    while queue and i < len(values):\n",
    "        node = queue.pop(0)\n",
    "        if i < len(values) and values[i] is not None:\n",
    "            node.left = TreeNode(values[i])\n",
    "            queue.append(node.left)\n",
    "        i += 1\n",
    "        if i < len(values) and values[i] is not None:\n",
    "            node.right = TreeNode(values[i])\n",
    "            queue.append(node.right)\n",
    "        i += 1\n",
    "    return root\n",
    "\n",
    "\n",
    "solution = Solution()\n",
    "root = buildTree([1, 2, 2, 3, 4, 4, 3])\n",
    "print(solution.isSymmetric(root))"
   ]
  },
  {
   "cell_type": "markdown",
   "metadata": {},
   "source": [
    "## 问题 11  \n",
    "\n",
    "给你一个由 '1'（陆地）和 '0'（水）组成的的二维网格，请你计算网格中岛屿的数量。岛屿总是被水包围，并且每座岛屿只能由水平方向和/或竖直方向上相邻的陆地连接形成。\n",
    "\n",
    "此外，你可以假设该网格的四条边均被水包围。\n",
    "\n",
    "分析算法设计思路，计算时间复杂度，并基于python编程实现\n",
    "\n",
    "e.g.:\n",
    "---\n",
    "1.\n",
    "输入：grid = [\n",
    "\n",
    "    [\"1\",\"1\",\"1\",\"1\",\"0\"],\n",
    "\n",
    "    [\"1\",\"1\",\"0\",\"1\",\"0\"], \n",
    "\n",
    "    [\"1\",\"1\",\"0\",\"0\",\"0\"], \n",
    "\n",
    "    [\"0\",\"0\",\"0\",\"0\",\"0\"]  \n",
    "\n",
    "]\n",
    "\n",
    "输出：1\n",
    "\n",
    "2.\n",
    "输入：grid = [\n",
    "\n",
    "    [\"1\",\"1\",\"0\",\"0\",\"0\"],\n",
    "\n",
    "    [\"1\",\"1\",\"0\",\"0\",\"0\"],\n",
    "\n",
    "    [\"0\",\"0\",\"1\",\"0\",\"0\"],\n",
    "\n",
    "    [\"0\",\"0\",\"0\",\"1\",\"1\"]\n",
    "\n",
    "]\n",
    "\n",
    "输出：3"
   ]
  },
  {
   "cell_type": "markdown",
   "metadata": {},
   "source": [
    "idea:"
   ]
  },
  {
   "cell_type": "code",
   "execution_count": 2,
   "metadata": {},
   "outputs": [
    {
     "name": "stdout",
     "output_type": "stream",
     "text": [
      "1\n"
     ]
    }
   ],
   "source": [
    "# 算法设计：\n",
    "# 遍历网格中的每个单元格，当遇到'1'时，利用深度优先搜索将该岛屿的所有'1'标记为已访问。\n",
    "# 然后岛屿计数加1，继续遍历，直到网格末尾。\n",
    "\n",
    "# add your code here\n",
    "# your algorithm time complexity is: O(mn)\n",
    "grid = [\n",
    "    [\"1\",\"1\",\"1\",\"1\",\"0\"],\n",
    "    [\"1\",\"1\",\"0\",\"1\",\"0\"],\n",
    "    [\"1\",\"1\",\"0\",\"0\",\"0\"],\n",
    "    [\"0\",\"0\",\"0\",\"0\",\"0\"]\n",
    "]\n",
    "rows, cols = len(grid), len(grid[0])\n",
    "islands = 0\n",
    "\n",
    "def dfs(i, j):\n",
    "    # 检查边界和是否为陆地\n",
    "    if (i < 0 or i >= rows or j < 0 or j >= cols or grid[i][j] != '1'):\n",
    "        return\n",
    "    # 标记为已访问\n",
    "    grid[i][j] = '0'\n",
    "    # 递归检查四个方向\n",
    "    dfs(i-1, j)\n",
    "    dfs(i+1, j)\n",
    "    dfs(i, j-1)\n",
    "    dfs(i, j+1)\n",
    "\n",
    "# 遍历网格\n",
    "for i in range(rows):\n",
    "    for j in range(cols):\n",
    "        if grid[i][j] == '1':\n",
    "            dfs(i, j)\n",
    "            islands += 1\n",
    "print(islands)"
   ]
  }
 ],
 "metadata": {
  "kernelspec": {
   "display_name": "Python 3",
   "language": "python",
   "name": "python3"
  },
  "language_info": {
   "codemirror_mode": {
    "name": "ipython",
    "version": 3
   },
   "file_extension": ".py",
   "mimetype": "text/x-python",
   "name": "python",
   "nbconvert_exporter": "python",
   "pygments_lexer": "ipython3",
   "version": "3.12.7"
  }
 },
 "nbformat": 4,
 "nbformat_minor": 2
}
